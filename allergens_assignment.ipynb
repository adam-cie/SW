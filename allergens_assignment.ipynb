{
 "cells": [
  {
   "cell_type": "code",
   "execution_count": 1,
   "id": "75283e87",
   "metadata": {},
   "outputs": [],
   "source": [
    "import pandas as pd"
   ]
  },
  {
   "cell_type": "code",
   "execution_count": 2,
   "id": "b14e66c9",
   "metadata": {},
   "outputs": [],
   "source": [
    "df = pd.read_csv('nodes_191120.csv')"
   ]
  },
  {
   "cell_type": "code",
   "execution_count": 3,
   "id": "5bc1871d",
   "metadata": {},
   "outputs": [
    {
     "name": "stdout",
     "output_type": "stream",
     "text": [
      "   node_id                    name  id   node_type  is_hub\n",
      "0        0       1%_fat_buttermilk NaN  ingredient  no_hub\n",
      "1        1   1%_fat_cottage_cheese NaN  ingredient  no_hub\n",
      "2        3               10%_cream NaN  ingredient  no_hub\n",
      "3        4               100%_bran NaN  ingredient  no_hub\n",
      "4        5  10_inch_flour_tortilla NaN  ingredient  no_hub\n"
     ]
    }
   ],
   "source": [
    "print(df.head())"
   ]
  },
  {
   "cell_type": "code",
   "execution_count": 4,
   "id": "a29e1ade",
   "metadata": {},
   "outputs": [
    {
     "name": "stdout",
     "output_type": "stream",
     "text": [
      "      node_id                        name        id node_type is_hub\n",
      "8293     8699              Procyanidin_B2  122738.0  compound   drug\n",
      "8294     8700               Procyanidin_C  130556.0  compound   drug\n",
      "8295     8701  6-Keto-28-homobrassinolide  134291.0  compound   drug\n",
      "8296     8702              Anthocyanidins  145858.0  compound   drug\n",
      "8297     8703              Procyanidin_B3  146798.0  compound   drug\n"
     ]
    }
   ],
   "source": [
    "print(df.tail())"
   ]
  },
  {
   "cell_type": "code",
   "execution_count": 5,
   "id": "f848f0b9",
   "metadata": {},
   "outputs": [
    {
     "name": "stdout",
     "output_type": "stream",
     "text": [
      "   node_id                    name  id   node_type  is_hub\n",
      "0        0       1%_fat_buttermilk NaN  ingredient  no_hub\n",
      "1        1   1%_fat_cottage_cheese NaN  ingredient  no_hub\n",
      "2        3               10%_cream NaN  ingredient  no_hub\n",
      "3        4               100%_bran NaN  ingredient  no_hub\n",
      "4        5  10_inch_flour_tortilla NaN  ingredient  no_hub\n",
      "      node_id               name  id   node_type  is_hub\n",
      "6648     7097  za'atar_spice_mix NaN  ingredient  no_hub\n",
      "6649     7098          zinfandel NaN  ingredient  no_hub\n",
      "6650     7099         ziploc_bag NaN  ingredient  no_hub\n",
      "6651     7100         ziti_pasta NaN  ingredient  no_hub\n",
      "6652     7101           zucchini NaN  ingredient  no_hub\n"
     ]
    }
   ],
   "source": [
    "ingredient_df = df[df['node_type'] == 'ingredient']\n",
    "\n",
    "print(ingredient_df.head())\n",
    "print(ingredient_df.tail())"
   ]
  },
  {
   "cell_type": "code",
   "execution_count": 6,
   "id": "0d348e8b",
   "metadata": {},
   "outputs": [
    {
     "name": "stdout",
     "output_type": "stream",
     "text": [
      "      node_id                             name  id   node_type  is_hub\n",
      "0        2777                      fudge_sauce NaN  ingredient  no_hub\n",
      "1        2272         fat_free_chocolate_syrup NaN  ingredient  no_hub\n",
      "2        1050                      celery_seed NaN  ingredient  no_hub\n",
      "3        2636            frozen_broccoli_spear NaN  ingredient  no_hub\n",
      "4        1284  chocolate_covered_caramel_candy NaN  ingredient  no_hub\n",
      "...       ...                              ...  ..         ...     ...\n",
      "6648     1366                    cilantro_root NaN  ingredient  no_hub\n",
      "6649     6988                whole_wheat_flour NaN  ingredient  no_hub\n",
      "6650     5510                      rolling_pin NaN  ingredient  no_hub\n",
      "6651     5987                      soy_chorizo NaN  ingredient  no_hub\n",
      "6652     4463               old_cheddar_cheese NaN  ingredient  no_hub\n",
      "\n",
      "[6653 rows x 5 columns]\n"
     ]
    }
   ],
   "source": [
    "shuffled_ingredient_df = ingredient_df.sample(frac=1).reset_index(drop=True)\n",
    "\n",
    "print(shuffled_ingredient_df)"
   ]
  },
  {
   "cell_type": "code",
   "execution_count": 7,
   "id": "ca898a40",
   "metadata": {},
   "outputs": [
    {
     "name": "stdout",
     "output_type": "stream",
     "text": [
      "                                 name  cows_milk  eggs  tree_nuts  peanuts  \\\n",
      "0                         fudge_sauce          0     0          0        0   \n",
      "1            fat_free_chocolate_syrup          0     0          0        0   \n",
      "2                         celery_seed          0     0          0        0   \n",
      "3               frozen_broccoli_spear          0     0          0        0   \n",
      "4     chocolate_covered_caramel_candy          0     0          0        0   \n",
      "...                               ...        ...   ...        ...      ...   \n",
      "6648                    cilantro_root          0     0          0        0   \n",
      "6649                whole_wheat_flour          0     0          0        0   \n",
      "6650                      rolling_pin          0     0          0        0   \n",
      "6651                      soy_chorizo          0     0          0        0   \n",
      "6652               old_cheddar_cheese          0     0          0        0   \n",
      "\n",
      "      shellfish  wheat  soy  fish  \n",
      "0             0      0    0     0  \n",
      "1             0      0    0     0  \n",
      "2             0      0    0     0  \n",
      "3             0      0    0     0  \n",
      "4             0      0    0     0  \n",
      "...         ...    ...  ...   ...  \n",
      "6648          0      0    0     0  \n",
      "6649          0      0    0     0  \n",
      "6650          0      0    0     0  \n",
      "6651          0      0    0     0  \n",
      "6652          0      0    0     0  \n",
      "\n",
      "[6653 rows x 9 columns]\n"
     ]
    }
   ],
   "source": [
    "new_df = shuffled_ingredient_df[['name']].copy()\n",
    "\n",
    "new_columns = ['cows_milk', 'eggs', 'tree_nuts', 'peanuts', 'shellfish', 'wheat', 'soy', 'fish']\n",
    "for column in new_columns:\n",
    "    new_df[column] = 0\n",
    "\n",
    "new_df.to_csv('output_file.csv', index=False)\n",
    "print(new_df)"
   ]
  },
  {
   "cell_type": "code",
   "execution_count": 21,
   "id": "4e22dfe5",
   "metadata": {},
   "outputs": [
    {
     "name": "stdout",
     "output_type": "stream",
     "text": [
      "Jaccard Similarity (Person 1 vs Person 2): 0.0\n",
      "Jaccard Similarity (Person 1 vs Person 3): 0.0\n",
      "Jaccard Similarity (Person 2 vs Person 3): 0.0\n"
     ]
    },
    {
     "name": "stderr",
     "output_type": "stream",
     "text": [
      "C:\\Users\\Maciej\\anaconda3\\lib\\site-packages\\sklearn\\metrics\\_classification.py:1318: UndefinedMetricWarning: Jaccard is ill-defined and being set to 0.0 due to no true or predicted samples. Use `zero_division` parameter to control this behavior.\n",
      "  _warn_prf(average, modifier, msg_start, len(result))\n",
      "C:\\Users\\Maciej\\anaconda3\\lib\\site-packages\\sklearn\\metrics\\_classification.py:1318: UndefinedMetricWarning: Jaccard is ill-defined and being set to 0.0 due to no true or predicted samples. Use `zero_division` parameter to control this behavior.\n",
      "  _warn_prf(average, modifier, msg_start, len(result))\n",
      "C:\\Users\\Maciej\\anaconda3\\lib\\site-packages\\sklearn\\metrics\\_classification.py:1318: UndefinedMetricWarning: Jaccard is ill-defined and being set to 0.0 due to no true or predicted samples. Use `zero_division` parameter to control this behavior.\n",
      "  _warn_prf(average, modifier, msg_start, len(result))\n"
     ]
    }
   ],
   "source": [
    "from sklearn.metrics import jaccard_score\n",
    "\n",
    "person1_data = pd.read_csv('person1_edited.csv')\n",
    "person2_data = pd.read_csv('person2_edited.csv')\n",
    "person3_data = pd.read_csv('person3_edited.csv')\n",
    "\n",
    "jaccard_sim_1_2 = jaccard_score(person1_data.iloc[:, 1:], person2_data.iloc[:, 1:], average='micro')\n",
    "jaccard_sim_1_3 = jaccard_score(person1_data.iloc[:, 1:], person3_data.iloc[:, 1:], average='micro')\n",
    "jaccard_sim_2_3 = jaccard_score(person2_data.iloc[:, 1:], person3_data.iloc[:, 1:], average='micro')\n",
    "\n",
    "print(f\"Jaccard Similarity (Person 1 vs Person 2): {jaccard_sim_1_2}\")\n",
    "print(f\"Jaccard Similarity (Person 1 vs Person 3): {jaccard_sim_1_3}\")\n",
    "print(f\"Jaccard Similarity (Person 2 vs Person 3): {jaccard_sim_2_3}\")"
   ]
  },
  {
   "cell_type": "code",
   "execution_count": null,
   "id": "36840420",
   "metadata": {},
   "outputs": [],
   "source": []
  }
 ],
 "metadata": {
  "kernelspec": {
   "display_name": "Python 3 (ipykernel)",
   "language": "python",
   "name": "python3"
  },
  "language_info": {
   "codemirror_mode": {
    "name": "ipython",
    "version": 3
   },
   "file_extension": ".py",
   "mimetype": "text/x-python",
   "name": "python",
   "nbconvert_exporter": "python",
   "pygments_lexer": "ipython3",
   "version": "3.9.13"
  }
 },
 "nbformat": 4,
 "nbformat_minor": 5
}
